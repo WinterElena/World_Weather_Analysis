{
 "cells": [
  {
   "cell_type": "code",
   "execution_count": 1,
   "id": "32669d14",
   "metadata": {},
   "outputs": [],
   "source": [
    "# Import the dependencies\n",
    "\n",
    "import pandas as pd\n",
    "import matplotlib.pyplot as plt\n",
    "import numpy as np"
   ]
  },
  {
   "cell_type": "code",
   "execution_count": 2,
   "id": "2c4d393e",
   "metadata": {},
   "outputs": [
    {
     "data": {
      "text/plain": [
       "<zip at 0x1e87478a600>"
      ]
     },
     "execution_count": 2,
     "metadata": {},
     "output_type": "execute_result"
    }
   ],
   "source": [
    "# Create a set of random latitude and longitude combinations\n",
    "\n",
    "lats = np.random.uniform(low=-90.000, high=90.000, size=20)\n",
    "lngs = np.random.uniform(low=-180.000, high=180.000, size=20)\n",
    "lat_lngs = zip(lats, lngs)\n",
    "lat_lngs"
   ]
  },
  {
   "cell_type": "code",
   "execution_count": 3,
   "id": "9bfbce5a",
   "metadata": {},
   "outputs": [],
   "source": [
    "from citipy import citipy"
   ]
  },
  {
   "cell_type": "code",
   "execution_count": 4,
   "id": "a47ad3b6",
   "metadata": {},
   "outputs": [],
   "source": [
    "# Add the latitudes and longitudes to a list\n",
    "\n",
    "coordinates = list(lat_lngs)"
   ]
  },
  {
   "cell_type": "code",
   "execution_count": 5,
   "id": "54335042",
   "metadata": {},
   "outputs": [
    {
     "data": {
      "text/plain": [
       "18"
      ]
     },
     "execution_count": 5,
     "metadata": {},
     "output_type": "execute_result"
    }
   ],
   "source": [
    "# Create a list for holding the cities\n",
    "\n",
    "cities = []\n",
    "\n",
    "# Identify the nearest city for each latitude and longitude combination\n",
    "\n",
    "for coordinate in coordinates:\n",
    "    city = citipy.nearest_city(coordinate[0], coordinate[1]).city_name\n",
    "\n",
    "    # If the city is unique, then we will add it to the cities list\n",
    "    \n",
    "    if city not in cities:\n",
    "        cities.append(city)\n",
    "        \n",
    "# Print the city count to confirm sufficient count\n",
    "\n",
    "len(cities)"
   ]
  },
  {
   "cell_type": "code",
   "execution_count": 6,
   "id": "6c567f72",
   "metadata": {},
   "outputs": [],
   "source": [
    "#Import the requests library\n",
    "import requests\n",
    "\n",
    "# Import the API key\n",
    "from config import weather_api_key"
   ]
  },
  {
   "cell_type": "code",
   "execution_count": 7,
   "id": "d69cb433",
   "metadata": {},
   "outputs": [],
   "source": [
    "url = \"http://api.openweathermap.org/data/2.5/weather?\" + \"appid=\" + weather_api_key\n",
    "\n",
    "x= url + \"appid=\" + weather_api_key + \"&q=\" + city\n",
    "\n",
    "weather_response = requests.get(x)\n",
    "weather_json = weather_response.json()"
   ]
  },
  {
   "cell_type": "code",
   "execution_count": 8,
   "id": "a5eae0f0",
   "metadata": {},
   "outputs": [
    {
     "data": {
      "text/plain": [
       "<Response [200]>"
      ]
     },
     "execution_count": 8,
     "metadata": {},
     "output_type": "execute_result"
    }
   ],
   "source": [
    "city_url = url + \"&q=\" + \"Boston\"\n",
    "city_weather = requests.get(city_url)\n",
    "city_weather"
   ]
  },
  {
   "cell_type": "code",
   "execution_count": 9,
   "id": "bbef2e6f",
   "metadata": {},
   "outputs": [
    {
     "data": {
      "text/plain": [
       "{'coord': {'lon': -71.0598, 'lat': 42.3584},\n",
       " 'weather': [{'id': 803,\n",
       "   'main': 'Clouds',\n",
       "   'description': 'broken clouds',\n",
       "   'icon': '04d'}],\n",
       " 'base': 'stations',\n",
       " 'main': {'temp': 270.39,\n",
       "  'feels_like': 264.06,\n",
       "  'temp_min': 268.56,\n",
       "  'temp_max': 272.17,\n",
       "  'pressure': 1004,\n",
       "  'humidity': 55},\n",
       " 'visibility': 10000,\n",
       " 'wind': {'speed': 6.26, 'deg': 294, 'gust': 11.62},\n",
       " 'clouds': {'all': 72},\n",
       " 'dt': 1642517751,\n",
       " 'sys': {'type': 2,\n",
       "  'id': 2013408,\n",
       "  'country': 'US',\n",
       "  'sunrise': 1642507749,\n",
       "  'sunset': 1642541986},\n",
       " 'timezone': -18000,\n",
       " 'id': 4930956,\n",
       " 'name': 'Boston',\n",
       " 'cod': 200}"
      ]
     },
     "execution_count": 9,
     "metadata": {},
     "output_type": "execute_result"
    }
   ],
   "source": [
    "city_url = url + \"&q=\" + \"Boston\"\n",
    "city_weather = requests.get(city_url)\n",
    "city_weather.json()"
   ]
  },
  {
   "cell_type": "code",
   "execution_count": 10,
   "id": "19ff30cc",
   "metadata": {},
   "outputs": [],
   "source": [
    "boston_data = city_weather.json()\n"
   ]
  },
  {
   "cell_type": "code",
   "execution_count": 11,
   "id": "14abad92",
   "metadata": {},
   "outputs": [
    {
     "name": "stdout",
     "output_type": "stream",
     "text": [
      "42.3584 -71.0598 272.17 55 72 6.26\n"
     ]
    }
   ],
   "source": [
    "lat = boston_data[\"coord\"][\"lat\"]\n",
    "lng = boston_data[\"coord\"][\"lon\"]\n",
    "max_temp = boston_data[\"main\"][\"temp_max\"]\n",
    "humidity = boston_data[\"main\"][\"humidity\"]\n",
    "clouds = boston_data[\"clouds\"][\"all\"]\n",
    "wind = boston_data[\"wind\"][\"speed\"]\n",
    "#weather_description = boston_data['weather']['description']\n",
    "print(lat, lng, max_temp, humidity, clouds, wind)"
   ]
  },
  {
   "cell_type": "code",
   "execution_count": 12,
   "id": "1f668f49",
   "metadata": {},
   "outputs": [
    {
     "name": "stdout",
     "output_type": "stream",
     "text": [
      "Beginning Data Retrieval     \n",
      "-----------------------------\n",
      "Processing Record 1 of Set 1 | qaanaaq\n",
      "Processing Record 2 of Set 1 | galle\n",
      "Processing Record 3 of Set 1 | grand river south east\n",
      "City not found. Skipping...\n",
      "Processing Record 4 of Set 1 | magenta\n",
      "Processing Record 5 of Set 1 | pasni\n",
      "Processing Record 6 of Set 1 | rikitea\n",
      "Processing Record 7 of Set 1 | vaini\n",
      "Processing Record 8 of Set 1 | diapaga\n",
      "Processing Record 9 of Set 1 | hilo\n",
      "Processing Record 10 of Set 1 | alofi\n",
      "Processing Record 11 of Set 1 | tiksi\n",
      "Processing Record 12 of Set 1 | ribeira grande\n",
      "Processing Record 13 of Set 1 | kaspiyskiy\n",
      "Processing Record 14 of Set 1 | kapaa\n",
      "Processing Record 15 of Set 1 | asau\n",
      "Processing Record 16 of Set 1 | prachatice\n",
      "Processing Record 17 of Set 1 | rudbar\n",
      "Processing Record 18 of Set 1 | albany\n"
     ]
    }
   ],
   "source": [
    "city_data = []\n",
    "\n",
    "# Print the beginning of the logging\n",
    "\n",
    "print(\"Beginning Data Retrieval     \")\n",
    "print(\"-----------------------------\")\n",
    "\n",
    "# Create counters\n",
    "\n",
    "record_count = 1\n",
    "set_count = 1\n",
    "\n",
    "# Loop through all the cities in our list\n",
    "\n",
    "for i, city in enumerate(cities):\n",
    "\n",
    "    # Group cities in sets of 50 for logging purposes\n",
    "    \n",
    "    if (i % 50 == 0 and i >= 50):\n",
    "        set_count += 1\n",
    "        record_count = 1\n",
    "        \n",
    "    # Create endpoint URL with each city\n",
    "    \n",
    "    city_url = url + \"&q=\" + city.replace(\" \",\"+\")\n",
    "    \n",
    "    \n",
    "    #Log the URL, record, and set numbers and the city\n",
    "    \n",
    "    print(f\"Processing Record {record_count} of Set {set_count} | {city}\")\n",
    "    \n",
    "    # Add 1 to the record count\n",
    "    record_count +=1\n",
    "    try:\n",
    "        # Run an API request for each of the cities\n",
    "        city_weather = requests.get(city_url).json()\n",
    "\n",
    "        # Parse the JSON and retrieve data\n",
    "\n",
    "\n",
    "\n",
    "\n",
    "        # Parse out the needed data\n",
    "\n",
    "        city_lat = city_weather[\"coord\"][\"lat\"]\n",
    "        city_lng = city_weather[\"coord\"][\"lon\"]\n",
    "        city_max_temp = city_weather[\"main\"][\"temp_max\"]\n",
    "        city_humidity = city_weather[\"main\"][\"humidity\"]\n",
    "        city_clouds = city_weather[\"clouds\"][\"all\"]\n",
    "        city_wind = city_weather[\"wind\"][\"speed\"]\n",
    "        city_description = city_weather[\"weather\"][0][\"description\"]\n",
    "                #city_country = city_weather[\"sys\"][\"country\"]\n",
    "\n",
    "        # Convert the date to ISO standard\n",
    "\n",
    "                #\n",
    "           #city_date = datetime.utcfromtimestamp(city_weather[\"dt\"]).strftime('%Y-%m-%d %H:%M:%S')\n",
    "\n",
    "        # Append the city information into city_data list\n",
    "\n",
    "        city_data.append({\"City\": city.title(),\n",
    "                          \"Lat\": city_lat,\n",
    "                          \"Lng\": city_lng,\n",
    "                          \"Max Temp\": city_max_temp,\n",
    "                          \"Humidity\": city_humidity,\n",
    "                          \"Cloudiness\": city_clouds,\n",
    "                          \"Wind Speed\": city_wind,\n",
    "                          \"Current Description\": city_description})\n",
    "\n",
    "                                  #\"Country\": city_country,\n",
    "                                  #\"Date\": city_date})\n",
    "\n",
    "        # If an error is experienced, skip the city\n",
    "\n",
    "    except:\n",
    "        print(\"City not found. Skipping...\")\n",
    "            #pass\n",
    "\n",
    "    # Indicate that Data Loading is complete\n",
    "\n",
    "    #print(\"-----------------------------\")\n",
    "    #print(\"Data Retrieval Complete      \")\n",
    "    #print(\"-----------------------------\")"
   ]
  },
  {
   "cell_type": "code",
   "execution_count": 13,
   "id": "f3ef6b01",
   "metadata": {},
   "outputs": [
    {
     "data": {
      "text/html": [
       "<div>\n",
       "<style scoped>\n",
       "    .dataframe tbody tr th:only-of-type {\n",
       "        vertical-align: middle;\n",
       "    }\n",
       "\n",
       "    .dataframe tbody tr th {\n",
       "        vertical-align: top;\n",
       "    }\n",
       "\n",
       "    .dataframe thead th {\n",
       "        text-align: right;\n",
       "    }\n",
       "</style>\n",
       "<table border=\"1\" class=\"dataframe\">\n",
       "  <thead>\n",
       "    <tr style=\"text-align: right;\">\n",
       "      <th></th>\n",
       "      <th>City</th>\n",
       "      <th>Lat</th>\n",
       "      <th>Lng</th>\n",
       "      <th>Max Temp</th>\n",
       "      <th>Humidity</th>\n",
       "      <th>Cloudiness</th>\n",
       "      <th>Wind Speed</th>\n",
       "      <th>Current Description</th>\n",
       "    </tr>\n",
       "  </thead>\n",
       "  <tbody>\n",
       "    <tr>\n",
       "      <th>0</th>\n",
       "      <td>Qaanaaq</td>\n",
       "      <td>77.4840</td>\n",
       "      <td>-69.3632</td>\n",
       "      <td>245.71</td>\n",
       "      <td>65</td>\n",
       "      <td>44</td>\n",
       "      <td>3.61</td>\n",
       "      <td>scattered clouds</td>\n",
       "    </tr>\n",
       "    <tr>\n",
       "      <th>1</th>\n",
       "      <td>Galle</td>\n",
       "      <td>6.0367</td>\n",
       "      <td>80.2170</td>\n",
       "      <td>298.84</td>\n",
       "      <td>79</td>\n",
       "      <td>86</td>\n",
       "      <td>1.51</td>\n",
       "      <td>overcast clouds</td>\n",
       "    </tr>\n",
       "    <tr>\n",
       "      <th>2</th>\n",
       "      <td>Magenta</td>\n",
       "      <td>45.4646</td>\n",
       "      <td>8.8826</td>\n",
       "      <td>287.05</td>\n",
       "      <td>58</td>\n",
       "      <td>0</td>\n",
       "      <td>1.18</td>\n",
       "      <td>clear sky</td>\n",
       "    </tr>\n",
       "    <tr>\n",
       "      <th>3</th>\n",
       "      <td>Pasni</td>\n",
       "      <td>25.2631</td>\n",
       "      <td>63.4710</td>\n",
       "      <td>295.12</td>\n",
       "      <td>61</td>\n",
       "      <td>2</td>\n",
       "      <td>1.98</td>\n",
       "      <td>clear sky</td>\n",
       "    </tr>\n",
       "    <tr>\n",
       "      <th>4</th>\n",
       "      <td>Rikitea</td>\n",
       "      <td>-23.1203</td>\n",
       "      <td>-134.9692</td>\n",
       "      <td>298.33</td>\n",
       "      <td>77</td>\n",
       "      <td>100</td>\n",
       "      <td>6.58</td>\n",
       "      <td>light rain</td>\n",
       "    </tr>\n",
       "    <tr>\n",
       "      <th>5</th>\n",
       "      <td>Vaini</td>\n",
       "      <td>-21.2000</td>\n",
       "      <td>-175.2000</td>\n",
       "      <td>299.24</td>\n",
       "      <td>94</td>\n",
       "      <td>75</td>\n",
       "      <td>2.57</td>\n",
       "      <td>broken clouds</td>\n",
       "    </tr>\n",
       "    <tr>\n",
       "      <th>6</th>\n",
       "      <td>Diapaga</td>\n",
       "      <td>12.0708</td>\n",
       "      <td>1.7889</td>\n",
       "      <td>303.85</td>\n",
       "      <td>8</td>\n",
       "      <td>2</td>\n",
       "      <td>4.21</td>\n",
       "      <td>clear sky</td>\n",
       "    </tr>\n",
       "    <tr>\n",
       "      <th>7</th>\n",
       "      <td>Hilo</td>\n",
       "      <td>19.7297</td>\n",
       "      <td>-155.0900</td>\n",
       "      <td>294.40</td>\n",
       "      <td>84</td>\n",
       "      <td>0</td>\n",
       "      <td>0.89</td>\n",
       "      <td>clear sky</td>\n",
       "    </tr>\n",
       "    <tr>\n",
       "      <th>8</th>\n",
       "      <td>Alofi</td>\n",
       "      <td>-19.0595</td>\n",
       "      <td>-169.9187</td>\n",
       "      <td>299.09</td>\n",
       "      <td>100</td>\n",
       "      <td>78</td>\n",
       "      <td>2.57</td>\n",
       "      <td>broken clouds</td>\n",
       "    </tr>\n",
       "    <tr>\n",
       "      <th>9</th>\n",
       "      <td>Tiksi</td>\n",
       "      <td>71.6872</td>\n",
       "      <td>128.8694</td>\n",
       "      <td>255.92</td>\n",
       "      <td>79</td>\n",
       "      <td>100</td>\n",
       "      <td>10.90</td>\n",
       "      <td>overcast clouds</td>\n",
       "    </tr>\n",
       "  </tbody>\n",
       "</table>\n",
       "</div>"
      ],
      "text/plain": [
       "      City      Lat       Lng  Max Temp  Humidity  Cloudiness  Wind Speed  \\\n",
       "0  Qaanaaq  77.4840  -69.3632    245.71        65          44        3.61   \n",
       "1    Galle   6.0367   80.2170    298.84        79          86        1.51   \n",
       "2  Magenta  45.4646    8.8826    287.05        58           0        1.18   \n",
       "3    Pasni  25.2631   63.4710    295.12        61           2        1.98   \n",
       "4  Rikitea -23.1203 -134.9692    298.33        77         100        6.58   \n",
       "5    Vaini -21.2000 -175.2000    299.24        94          75        2.57   \n",
       "6  Diapaga  12.0708    1.7889    303.85         8           2        4.21   \n",
       "7     Hilo  19.7297 -155.0900    294.40        84           0        0.89   \n",
       "8    Alofi -19.0595 -169.9187    299.09       100          78        2.57   \n",
       "9    Tiksi  71.6872  128.8694    255.92        79         100       10.90   \n",
       "\n",
       "  Current Description  \n",
       "0    scattered clouds  \n",
       "1     overcast clouds  \n",
       "2           clear sky  \n",
       "3           clear sky  \n",
       "4          light rain  \n",
       "5       broken clouds  \n",
       "6           clear sky  \n",
       "7           clear sky  \n",
       "8       broken clouds  \n",
       "9     overcast clouds  "
      ]
     },
     "execution_count": 13,
     "metadata": {},
     "output_type": "execute_result"
    }
   ],
   "source": [
    "city_df=pd.DataFrame(city_data)\n",
    "city_df.head(10)"
   ]
  },
  {
   "cell_type": "code",
   "execution_count": 14,
   "id": "8a5fe7ee",
   "metadata": {},
   "outputs": [],
   "source": [
    "# Create the output file (CSV).\n",
    "output_data_file = \"WeatherPy_Database.csv\"\n",
    "# Export the City_Data into a CSV.\n",
    "city_df.to_csv(output_data_file, index_label=\"City_ID\")"
   ]
  }
 ],
 "metadata": {
  "kernelspec": {
   "display_name": "Python 3",
   "language": "python",
   "name": "python3"
  },
  "language_info": {
   "codemirror_mode": {
    "name": "ipython",
    "version": 3
   },
   "file_extension": ".py",
   "mimetype": "text/x-python",
   "name": "python",
   "nbconvert_exporter": "python",
   "pygments_lexer": "ipython3",
   "version": "3.8.8"
  }
 },
 "nbformat": 4,
 "nbformat_minor": 5
}
