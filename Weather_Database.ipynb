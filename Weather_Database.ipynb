{
 "cells": [
  {
   "cell_type": "code",
   "execution_count": 1,
   "id": "32669d14",
   "metadata": {},
   "outputs": [],
   "source": [
    "# Import the dependencies\n",
    "\n",
    "import pandas as pd\n",
    "import matplotlib.pyplot as plt\n",
    "import numpy as np"
   ]
  },
  {
   "cell_type": "code",
   "execution_count": 2,
   "id": "2c4d393e",
   "metadata": {},
   "outputs": [
    {
     "data": {
      "text/plain": [
       "<zip at 0x19e7f858540>"
      ]
     },
     "execution_count": 2,
     "metadata": {},
     "output_type": "execute_result"
    }
   ],
   "source": [
    "# Create a set of random latitude and longitude combinations\n",
    "\n",
    "lats = np.random.uniform(low=-90.000, high=90.000, size=2000)\n",
    "lngs = np.random.uniform(low=-180.000, high=180.000, size=2000)\n",
    "lat_lngs = zip(lats, lngs)\n",
    "lat_lngs"
   ]
  },
  {
   "cell_type": "code",
   "execution_count": 3,
   "id": "9bfbce5a",
   "metadata": {},
   "outputs": [],
   "source": [
    "from citipy import citipy"
   ]
  },
  {
   "cell_type": "code",
   "execution_count": 4,
   "id": "a47ad3b6",
   "metadata": {},
   "outputs": [],
   "source": [
    "# Add the latitudes and longitudes to a list\n",
    "\n",
    "coordinates = list(lat_lngs)"
   ]
  },
  {
   "cell_type": "code",
   "execution_count": 5,
   "id": "54335042",
   "metadata": {},
   "outputs": [
    {
     "data": {
      "text/plain": [
       "772"
      ]
     },
     "execution_count": 5,
     "metadata": {},
     "output_type": "execute_result"
    }
   ],
   "source": [
    "# Create a list for holding the cities\n",
    "\n",
    "cities = []\n",
    "\n",
    "# Identify the nearest city for each latitude and longitude combination\n",
    "\n",
    "for coordinate in coordinates:\n",
    "    city = citipy.nearest_city(coordinate[0], coordinate[1]).city_name\n",
    "\n",
    "    # If the city is unique, then we will add it to the cities list\n",
    "    \n",
    "    if city not in cities:\n",
    "        cities.append(city)\n",
    "        \n",
    "# Print the city count to confirm sufficient count\n",
    "\n",
    "len(cities)"
   ]
  },
  {
   "cell_type": "code",
   "execution_count": 6,
   "id": "6c567f72",
   "metadata": {},
   "outputs": [],
   "source": [
    "#Import the requests library\n",
    "import requests\n",
    "\n",
    "# Import the API key\n",
    "from config import weather_api_key"
   ]
  },
  {
   "cell_type": "code",
   "execution_count": 7,
   "id": "d69cb433",
   "metadata": {},
   "outputs": [],
   "source": [
    "url = \"http://api.openweathermap.org/data/2.5/weather?\" + \"appid=\" + weather_api_key\n",
    "\n",
    "x= url + \"appid=\" + weather_api_key + \"&q=\" + city\n",
    "\n",
    "weather_response = requests.get(x)\n",
    "weather_json = weather_response.json()"
   ]
  },
  {
   "cell_type": "code",
   "execution_count": 8,
   "id": "a5eae0f0",
   "metadata": {},
   "outputs": [
    {
     "data": {
      "text/plain": [
       "<Response [200]>"
      ]
     },
     "execution_count": 8,
     "metadata": {},
     "output_type": "execute_result"
    }
   ],
   "source": [
    "city_url = url + \"&q=\" + \"Boston\"\n",
    "city_weather = requests.get(city_url)\n",
    "city_weather"
   ]
  },
  {
   "cell_type": "code",
   "execution_count": 9,
   "id": "bbef2e6f",
   "metadata": {},
   "outputs": [
    {
     "data": {
      "text/plain": [
       "{'coord': {'lon': -71.0598, 'lat': 42.3584},\n",
       " 'weather': [{'id': 500,\n",
       "   'main': 'Rain',\n",
       "   'description': 'light rain',\n",
       "   'icon': '10n'}],\n",
       " 'base': 'stations',\n",
       " 'main': {'temp': 282.6,\n",
       "  'feels_like': 281.89,\n",
       "  'temp_min': 279.61,\n",
       "  'temp_max': 284.82,\n",
       "  'pressure': 1022,\n",
       "  'humidity': 78},\n",
       " 'visibility': 10000,\n",
       " 'wind': {'speed': 1.79, 'deg': 300, 'gust': 3.58},\n",
       " 'rain': {'1h': 0.17},\n",
       " 'clouds': {'all': 89},\n",
       " 'dt': 1635136020,\n",
       " 'sys': {'type': 2,\n",
       "  'id': 2013408,\n",
       "  'country': 'US',\n",
       "  'sunrise': 1635160144,\n",
       "  'sunset': 1635198433},\n",
       " 'timezone': -14400,\n",
       " 'id': 4930956,\n",
       " 'name': 'Boston',\n",
       " 'cod': 200}"
      ]
     },
     "execution_count": 9,
     "metadata": {},
     "output_type": "execute_result"
    }
   ],
   "source": [
    "city_url = url + \"&q=\" + \"Boston\"\n",
    "city_weather = requests.get(city_url)\n",
    "city_weather.json()"
   ]
  },
  {
   "cell_type": "code",
   "execution_count": 10,
   "id": "19ff30cc",
   "metadata": {},
   "outputs": [],
   "source": [
    "boston_data = city_weather.json()\n"
   ]
  },
  {
   "cell_type": "code",
   "execution_count": 11,
   "id": "14abad92",
   "metadata": {},
   "outputs": [
    {
     "name": "stdout",
     "output_type": "stream",
     "text": [
      "42.3584 -71.0598 284.82 78 89 1.79\n"
     ]
    }
   ],
   "source": [
    "lat = boston_data[\"coord\"][\"lat\"]\n",
    "lng = boston_data[\"coord\"][\"lon\"]\n",
    "max_temp = boston_data[\"main\"][\"temp_max\"]\n",
    "humidity = boston_data[\"main\"][\"humidity\"]\n",
    "clouds = boston_data[\"clouds\"][\"all\"]\n",
    "wind = boston_data[\"wind\"][\"speed\"]\n",
    "#weather_description = boston_data['weather']['description']\n",
    "print(lat, lng, max_temp, humidity, clouds, wind)"
   ]
  },
  {
   "cell_type": "code",
   "execution_count": 16,
   "id": "1f668f49",
   "metadata": {},
   "outputs": [
    {
     "ename": "SyntaxError",
     "evalue": "unexpected EOF while parsing (Temp/ipykernel_2228/808282847.py, line 79)",
     "output_type": "error",
     "traceback": [
      "\u001b[1;36m  File \u001b[1;32m\"C:\\Users\\win_l\\AppData\\Local\\Temp/ipykernel_2228/808282847.py\"\u001b[1;36m, line \u001b[1;32m79\u001b[0m\n\u001b[1;33m    #print(\"-----------------------------\")\u001b[0m\n\u001b[1;37m                                           ^\u001b[0m\n\u001b[1;31mSyntaxError\u001b[0m\u001b[1;31m:\u001b[0m unexpected EOF while parsing\n"
     ]
    }
   ],
   "source": [
    "city_data = []\n",
    "\n",
    "# Print the beginning of the logging\n",
    "\n",
    "print(\"Beginning Data Retrieval     \")\n",
    "print(\"-----------------------------\")\n",
    "\n",
    "# Create counters\n",
    "\n",
    "record_count = 1\n",
    "set_count = 1\n",
    "\n",
    "# Loop through all the cities in our list\n",
    "\n",
    "for i, city in enumerate(cities):\n",
    "\n",
    "    # Group cities in sets of 50 for logging purposes\n",
    "    \n",
    "    if (i % 50 == 0 and i >= 50):\n",
    "        set_count += 1\n",
    "        record_count = 1\n",
    "        \n",
    "    # Create endpoint URL with each city\n",
    "    \n",
    "    city_url = url + \"&q=\" + city.replace(\" \",\"+\")\n",
    "    \n",
    "    \n",
    "    #Log the URL, record, and set numbers and the city\n",
    "    \n",
    "    print(f\"Processing Record {record_count} of Set {set_count} | {city}\")\n",
    "    \n",
    "    # Add 1 to the record count\n",
    "    record_count +=1\n",
    "    \n",
    "    # Run an API request for each of the cities\n",
    "\n",
    "    #try:\n",
    "# Parse the JSON and retrieve data\n",
    "       \n",
    "city_weather = requests.get(city_url).json()\n",
    "       \n",
    "        \n",
    "# Parse out the needed data\n",
    "        \n",
    "city_lat = city_weather[\"coord\"][\"lat\"]\n",
    "city_lng = city_weather[\"coord\"][\"lon\"]\n",
    "city_max_temp = city_weather[\"main\"][\"temp_max\"]\n",
    "city_humidity = city_weather[\"main\"][\"humidity\"]\n",
    "city_clouds = city_weather[\"clouds\"][\"all\"]\n",
    "city_wind = city_weather[\"wind\"][\"speed\"]\n",
    "        #city_country = city_weather[\"sys\"][\"country\"]\n",
    "        \n",
    "# Convert the date to ISO standard\n",
    "        \n",
    "        #city_date = datetime.utcfromtimestamp(city_weather[\"dt\"]).strftime('%Y-%m-%d %H:%M:%S')\n",
    "        \n",
    "# Append the city information into city_data list\n",
    "        \n",
    "city_data.append({\"City\": city.title(),\n",
    "                  \"Lat\": city_lat,\n",
    "                  \"Lng\": city_lng,\n",
    "                  \"Max Temp\": city_max_temp,\n",
    "                  \"Humidity\": city_humidity,\n",
    "                  \"Cloudiness\": city_clouds,\n",
    "                  \"Wind Speed\": city_wind,\n",
    "                          #\"Country\": city_country,\n",
    "                          #\"Date\": city_date})\n",
    "\n",
    "# If an error is experienced, skip the city\n",
    "       \n",
    "    #except:\n",
    "        #print(\"City not found. Skipping...\")\n",
    "        #pass\n",
    "    \n",
    "# Indicate that Data Loading is complete\n",
    "\n",
    "#print(\"-----------------------------\")\n",
    "#print(\"Data Retrieval Complete      \")\n",
    "#print(\"-----------------------------\")"
   ]
  },
  {
   "cell_type": "code",
   "execution_count": null,
   "id": "f3ef6b01",
   "metadata": {},
   "outputs": [],
   "source": [
    "#I'll be back!"
   ]
  }
 ],
 "metadata": {
  "kernelspec": {
   "display_name": "Python 3 (ipykernel)",
   "language": "python",
   "name": "python3"
  },
  "language_info": {
   "codemirror_mode": {
    "name": "ipython",
    "version": 3
   },
   "file_extension": ".py",
   "mimetype": "text/x-python",
   "name": "python",
   "nbconvert_exporter": "python",
   "pygments_lexer": "ipython3",
   "version": "3.9.7"
  }
 },
 "nbformat": 4,
 "nbformat_minor": 5
}
